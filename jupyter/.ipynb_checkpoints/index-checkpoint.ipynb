{
 "cells": [
  {
   "cell_type": "markdown",
   "metadata": {},
   "source": [
    "# AWS Well Architected Reference Implementations\n",
    "\n",
    "\"The Well-Architected framework has been developed to help cloud architects build the most secure, high-performing, resilient, and efficient infrastructure possible for their applications. This framework provides a consistent approach for customers and partners to evaluate architectures, and provides guidance to help implement designs that will scale with your application needs over time.\" - https://aws.amazon.com/architecture/well-architected/\n",
    "\n",
    "The AWS Well Architected Framework evaluates application architectures by their non functional requirements, or  \"pillars\": Security, Reliability, Performance Efficiency, Cost Optimizaiton, and Operational Excellence. The framework is not meant to be exhaustive or guarantee of success, but provide the basic foundations that should be considered in cloud-native applications. However, the framework is not prescriptive: each software organization will build different implementations.\n",
    "\n",
    "This project picks up from there, offering reference implementations for each question as specifically as posible. Some will be more process oriented, but a lot of it comes down to code. And this is why they are presented as jupyter notebooks, providing the proper context and code for each reference.\n",
    "\n",
    "It is helpful to be familiar with the AWS Well Architected Framework before getting started, but that is not strictly required. You'll probably navigate from the implementations here to the requirements there as you build your own architecture and answers.\n",
    "\n",
    "\n",
    "## Security\n",
    "[SEC1](sec01.ipynb)\n",
    "\n",
    "## Reliability\n",
    "## Performance Efficiency\n",
    "## Cost Optimization\n",
    "## Operational Excellence\n"
   ]
  }
 ],
 "metadata": {
  "kernelspec": {
   "display_name": "Python 3",
   "language": "python",
   "name": "python3"
  },
  "language_info": {
   "codemirror_mode": {
    "name": "ipython",
    "version": 3
   },
   "file_extension": ".py",
   "mimetype": "text/x-python",
   "name": "python",
   "nbconvert_exporter": "python",
   "pygments_lexer": "ipython3",
   "version": "3.6.4"
  }
 },
 "nbformat": 4,
 "nbformat_minor": 2
}
