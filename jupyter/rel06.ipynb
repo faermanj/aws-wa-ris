{
 "cells": [
  {
   "cell_type": "markdown",
   "metadata": {},
   "source": [
    "# REL 6: How are you backing up your data?"
   ]
  },
  {
   "cell_type": "markdown",
   "metadata": {},
   "source": [
    "Data is backed up to S3 and Glacier. These storage services were designed for the highest durability (99.999999999%) and long-term storage. Files there are copied across multiple isolated facilities in the same region automatically and can be setup for cross-region replication. Hosting yourself yet another copy hardly improves durability and is probably unnecessary.\n",
    "\n",
    "Backups are unlikely to be restored, so it usually pays off to store them in S3 Standard – Infrequent Access Storage. Objects in this storage class have the same durability as Standard Storage for around half the costs, but a lower availability SLA (99.9%) and a minimum billing of 128KB and 30 days. \n",
    "\n",
    "Some applications, particularly in regulated institutions, may have retain data for a long time. In healthcare for example, HIPAA compliance requires 6 years of retention, but local government and industry standards may require a decade or even more. Glacier can help with such permanent archival, with the same durability as S3, but costs less than half a penny per GB/month to be stored. Retrieval operations are a bit different, with three options for balancing their duration and cost: Expedited, Standard and Bulk.\n",
    "\n",
    "Data can be changed from a storage category to another as it gets “cold”. A fresh backup may be stored in S3 Standard, to be used for testing or debugging. After it is unlikely to be necessary, it can move to Standard – IA. When it needs permanent archival, it can be frozen into Glacier and finally expired and deleted after that. Using S3 Lifecycle Policies these rules can be easily defined and applied automatically.\n"
   ]
  },
  {
   "cell_type": "code",
   "execution_count": null,
   "metadata": {},
   "outputs": [],
   "source": []
  }
 ],
 "metadata": {
  "kernelspec": {
   "display_name": "Python 3",
   "language": "python",
   "name": "python3"
  },
  "language_info": {
   "codemirror_mode": {
    "name": "ipython",
    "version": 3
   },
   "file_extension": ".py",
   "mimetype": "text/x-python",
   "name": "python",
   "nbconvert_exporter": "python",
   "pygments_lexer": "ipython3",
   "version": "3.6.4"
  }
 },
 "nbformat": 4,
 "nbformat_minor": 2
}
