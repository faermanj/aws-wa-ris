{
 "cells": [
  {
   "cell_type": "markdown",
   "metadata": {},
   "source": [
    "# REL 1: How are you managing AWS service limits for your accounts?\n",
    "\n"
   ]
  },
  {
   "cell_type": "markdown",
   "metadata": {},
   "source": [
    "Service limits are reviewed frequently and automatically. Physically speaking there is no such thing as “unlimited” capacity, but Amazon scale is astonishing. According to Gartner research AWS capacity in 2015 was estimated to be 10 times bigger than the next 14 competitors and speculations of aggregate count is in the range of millions of servers. Letting applications scale unlimitedly would be very risky for both customers and Amazon, so all services are bound to service limits. For example, S3 buckets are limited to 100 by default and on-demand EC2 instances vary from 1 to 20, according to instance type. Check the [AWS Service Limits](https://docs.aws.amazon.com/general/latest/gr/aws_service_limits.html) page on the General Reference of AWS Documentation for the complete list of default limits.\n",
    "\n",
    "These and other limits listed in the AWS Service Limits page are just defaults, you can ask for a limit increase at any time. This is a simple process but requires a support ticket, and the response time of the contracted support level. The Business and Enterprise Support customers can be automatically notified by Trusted Advisor when limits are getting close. This can be done on the web console, API or CLI, but there is also a published solution entitled [AWS Limit Monitor](https://aws.amazon.com/answers/account-management/limit-monitor/) on AWS Answers website for automatically monitoring service limits more closely.\n",
    "\n",
    "Service limits should be monitored not only for AWS, but for all integrations and dependencies, as they will all be subject to physical or contractual limitations.\n",
    "\n"
   ]
  },
  {
   "cell_type": "code",
   "execution_count": null,
   "metadata": {},
   "outputs": [],
   "source": []
  }
 ],
 "metadata": {
  "kernelspec": {
   "display_name": "Python 3",
   "language": "python",
   "name": "python3"
  },
  "language_info": {
   "codemirror_mode": {
    "name": "ipython",
    "version": 3
   },
   "file_extension": ".py",
   "mimetype": "text/x-python",
   "name": "python",
   "nbconvert_exporter": "python",
   "pygments_lexer": "ipython3",
   "version": "3.6.4"
  }
 },
 "nbformat": 4,
 "nbformat_minor": 2
}
