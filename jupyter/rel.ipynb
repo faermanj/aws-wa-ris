{
 "cells": [
  {
   "cell_type": "markdown",
   "metadata": {},
   "source": [
    "# Reliability Pillar\n",
    "\n",
    "hen business is conducted mostly online as it is today, reliability is invaluable. For applications such as amazon.com, Netflix and many others, minutes of downtime translates directly to millions in lost revenue and other conversions. Losing or mishandling data can be even more catastrophic. \n",
    "\n",
    "The Reliability pillar focus on designing systems that tolerate and recover from all sorts of undesirable circumstances.  Applications may face failing components, partitioned networks, unreachable services… but the show must go on. With the cloud applications can instantly provision resources, shift traffic and correct infrastructure automatically using APIs. However, it is up to developers to explore the many ways things can go wrong, as well as extrapolate and prevent them.\n",
    "\n",
    "Reliability is too broad of a concept. For the purpose of this chapter, we’ll discuss three specific aspects of reliability:\n",
    "\n",
    "*\tAvailability: How to keep up and serving over component failures.\n",
    "*\tScalability: How to keep performance under varying load.\n",
    "*\tCorrectness: How to recover from application errors and other failures.\n",
    "\n",
    "It is important to note that these aspects apply just as much to the software as to its development process. Site Reliability Engineers are now employed worldwide with the single task of keeping the software delivery coming through smoothly, from requirements to announcements. Reliability is not only a system administration task, but a shared responsibility across the company.\n",
    "And not only your software is changing, but your dependencies and integrations as well. From the small libraries to external web services, software is evolving together. Let’s consider how to use stable interfaces, semantic versioning and dynamic routing so our mistakes don’t break other people’s code and do not let other people’s mistakes break ours.\n",
    "\n",
    "Each section of this chapter focuses on keeping availability, scalability and correctness in different situations: \n",
    "\n",
    "*\tReliability Foundations: How to keep reliable in steady state. \n",
    "*\tChange Management: How to rollout new versions and features. \n",
    "*\tFailure Management: How to tolerate component failures with minimal consequences.\n",
    "\n",
    "## Best Practices\n",
    "\n",
    "### Foundations\n",
    "\n",
    "Building reliable systems out of unreliable components is a key aspect of well architected. A reliable system must not only keep itself available and healthy, but also account for the reliability of its dependencies and integrations. And not only through steady state, but while undergoing software updates and component failures.\n",
    "Reliability is not a boolean property, to be had or not, but a perception coming mostly from availability, scalability and correctness. Amazon’s e-commerce feels reliable because it is always up, fulfilling correctly the orders, since the first to the current hundreds of millions of shoppers. And more than considering these aspects in steady state, well architected applications are built to keep reliable under software updates and component failures.\n",
    "\n",
    "### Availability\n",
    "\n",
    "The first aspect of reliability is availability, usually measured as “uptime”, the portion of time in which the service is up and responsive. Uptime is a metric so important that it is frequently explicit in a Service Level Agreement (SLA) between service providers and customers. For example, the Amazon S3 SLA states that customers are entitled to compensation if the service availability is lower than 99.9% per month, or 43.2 minutes of downtime. This is the Standard storage SLA, but customers can opt for the “Standard - Infrequent Access” feature for cheaper storage in exchange for less strict availability, at a 99.0% SLA. Amazon S3 actually operates much above this level and has an incredible availability record. Amazon Route53 SLA is even more strict, stating compensation after five minutes of service outage, but not a single one has happened so far, largely due to its global network of redundant DNS resolvers.\n",
    "\n",
    "Even when it is not under formal scrutiny, it is helpful to openly share availability data with customers. AWS publishes a global service health dashboard with the general availability of services at https://status.aws.amazon.com. However, as services scale to several environments and failure zones, a single global availability information may be too succinct. For example, the AWS Personal Health Dashboard offers more detailed information for local or minor events that may be impactful to individual customer accounts. \n",
    "\n",
    "### Scalability\n",
    "\n",
    "A reliable system must be not only up but responding to requests and emitting notifications timely as it scales, whatever that means in your business context. Online advertisement exchanges, for example, typically waits at most 80-120 milliseconds for responses to real time bidding. Regardless if you have a crowd of users and a firehose of data, bidders need to respond in time to keep in business. Scalability means keeping acceptable performance, in terms of latency or throughput, while other metrics fluctuate. Most typically, these other metrics are concurrent users and volume of data.\n",
    "\n",
    "The final performance metrics are a result of a possibly complex invocation paths with many components. From the selection of data structures to network conditions, everything can impact on latency and throughput. So even on known codebases the resulting scalability is very unpredictable and requires reliable measurements from monitoring of production environments and load simulations.\n",
    "\n",
    "### Correctness\n",
    "\n",
    "Even if available and responsive, a system won’t be considered reliable if it responds with application errors, inconsistent data and all sorts of bugs. However, sometimes it can be very hard to determine what correct means and even then, it changes. Embracing the changing nature of software requirements can be tricky and much beyond the scope of this book, but we’ll discuss some techniques to help cope with change in this section.\n",
    "\n",
    "The availability, scalability and correctness of applications are discussed in the following questions of the reliability pillar:\n",
    "\n",
    "[REL 1: How are you managing AWS service limits for your accounts?](rel01.ipynb)\n",
    "\n",
    "[REL 2: How are you planning your network topology on AWS?](rel02.ipynb)\n",
    "\n",
    "### Change Management\n",
    "\n",
    "[REL 3: How does your system adapt to changes in demand?](rel03.ipynb) \n",
    "\n",
    "[REL 4: How are you monitoring AWS resources?](rel04.ipynb)\n",
    "\n",
    "[REL 5: How are you executing change?](rel05.ipynb)\n",
    "\n",
    "### Failure Manaagement\n",
    "\n",
    "[REL 6: How are you backing up your data?](rel06.ipynb)\n",
    "\n",
    "[REL 7: How does your system withstand component failures?](rel07.ipynb)\n",
    "\n",
    "[REL 8: How are you testing your resiliency?](rel08.ipynb)\n",
    "\n",
    "[REL 9: How are you planning for disaster recovery?](rel09.ipynb)\n"
   ]
  },
  {
   "cell_type": "markdown",
   "metadata": {},
   "source": [
    "## Summary\n",
    "\n",
    "Reliability is key for business continuity and prosperity, sometimes just as much as security. With the concepts and techniques presented in this chapter you can build architectures that are resilient to expect and unexpected changes or even disasters. With security and reliability in place, we can focus on getting the system more efficient in terms of performance and costs.\n"
   ]
  },
  {
   "cell_type": "code",
   "execution_count": null,
   "metadata": {},
   "outputs": [],
   "source": []
  }
 ],
 "metadata": {
  "kernelspec": {
   "display_name": "Python 3",
   "language": "python",
   "name": "python3"
  },
  "language_info": {
   "codemirror_mode": {
    "name": "ipython",
    "version": 3
   },
   "file_extension": ".py",
   "mimetype": "text/x-python",
   "name": "python",
   "nbconvert_exporter": "python",
   "pygments_lexer": "ipython3",
   "version": "3.6.4"
  }
 },
 "nbformat": 4,
 "nbformat_minor": 2
}
