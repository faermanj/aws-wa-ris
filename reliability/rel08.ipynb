{
 "cells": [
  {
   "cell_type": "markdown",
   "metadata": {},
   "source": [
    "# REL 8: How are you testing your resiliency?"
   ]
  },
  {
   "cell_type": "markdown",
   "metadata": {},
   "source": [
    "“There is no compression algorithm for experience” – CEO Andy Jassy\n",
    "Game Days are executed periodically.  Handling turbulent conditions is an important skill for a system administrator but keeping systems up and running is even more. Having experience in handling failures under controlled scenarios is not only a very helpful exercise for engineering skills, but also expose bottlenecks and design issues early on.\n",
    "\n",
    "It may be difficult for small organizations to invest deeply on resiliency testing, but at least some periodical game days are important. \n",
    "\n",
    "## Chaos Engineering.\n",
    "\n",
    "“Chaos Engineering is the discipline of experimenting on a distributed system in order to build confidence in the system’s capability to withstand turbulent conditions in production.” – Chaos Engineering Principles\n",
    "\n",
    "Chaos engineering is a new way to increase confidence in distributed systems. It is not only about killing resources with chaos monkey in production, but systematically designing and executing experiments to improve reliability. It is about preventing, solving and learning from incidents, instead of hoping they won’t happen.  You can think of chaos engineering as the garbage collector of technical debt.\n",
    "\n",
    "The fundamental tenet of chaos engineering is embracing that distributed systems failures are unpredictable and complex, particulary for fine-grained microservices under high traffic. So instead of waiting for that bad day when a server fails, let’s prepare for server failures and inject them to make sure. And do the for the many different components we use and the mysterious ways they can fail. Once a failure is revealed, it can be monitored and prevented. There are many tools to help chaos engineering, but at core it is this continuous process of revealing unknown issues earlier in controlled experiments.\n",
    "\n"
   ]
  },
  {
   "cell_type": "code",
   "execution_count": null,
   "metadata": {},
   "outputs": [],
   "source": []
  }
 ],
 "metadata": {
  "kernelspec": {
   "display_name": "Python 3",
   "language": "python",
   "name": "python3"
  },
  "language_info": {
   "codemirror_mode": {
    "name": "ipython",
    "version": 3
   },
   "file_extension": ".py",
   "mimetype": "text/x-python",
   "name": "python",
   "nbconvert_exporter": "python",
   "pygments_lexer": "ipython3",
   "version": "3.6.4"
  }
 },
 "nbformat": 4,
 "nbformat_minor": 2
}
