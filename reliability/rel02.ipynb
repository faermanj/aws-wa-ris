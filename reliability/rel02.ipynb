{
 "cells": [
  {
   "cell_type": "markdown",
   "metadata": {},
   "source": [
    "# REL 2: How are you planning your network topology on AWS? "
   ]
  },
  {
   "cell_type": "markdown",
   "metadata": {},
   "source": [
    "Network paths are redundant and monitored. For web and mobile applications this is managed automatically by AWS, as every Availability Zone is reliably connected to redundant Transit Centers and to other AZs in the same region. With the speculations that over 70% of the entire US internet traffic passing by the Virginia region at peak, chances are you are just a couple hops away. The internet is a LAN! Even connecting outside of AWS, from TCP retransmission to BGP failover, the internet builds upon redundancy of paths to be reliable and Amazon manages all of that.\n",
    "\n",
    "Hybrid architectures and on-premises integrations are not so simple and network issues are probably the most common cause of failure. Although we’d love to have every system on the cloud, some workloads may be harder to migrate, for example:\n",
    "\n",
    "*\tHybrid CPUs. AWS cooperates with Intel since long and continuously on the development of more efficient EC2 instance families. Applications depending on specific hardware platforms, such as Mainframes, are more complex to migrate.\n",
    "*\tUnfriendly Licensing. Licenses bound to physical sockets or number of servers are harder to license for an elastic infrastructure. Further issues, such as hardware locks and license servers may also require a hybrid architecture.\n",
    "*\tData Access. Legal regulations, data security departments and others may keep data in silos that are simply not accessible from the internet.\n",
    "\n",
    "In these hybrid scenarios it is very important to consider how the application tolerates network failures as its “partitions” keep operating isolated. Message queues, relational database read replicas, peer to peer and other asynchronous protocols usually handles brief losses of connectivity gracefully. However, if the protocol requires RPC or any synchronous protocol, a reliable connection to on-premises datacenters becomes required.\n",
    "\n",
    "Virtual Private Cloud, the service for software defined networking, lets customers define their own network topologies as appropriate for each organization. Connectivity to on-premises data centers can be established over the internet using Virtual Private Gateways to establish VPNs, or trough dedicated links with AWS Direct Connect. \n",
    "\n",
    "Dedicate private connections can help to reduce internet data-out costs, offer consistent network performance and direct connectivity to all AWS services. Although AWS Direct Connect is not so cost impactful, with port rates starting at a few cents per hour, but the cost of establishing the physical connection is dependent on local telecommunications providers.  Visit the “Network Partner Solutions” page for more information about Direct Connect and other connectivity partners."
   ]
  }
 ],
 "metadata": {
  "kernelspec": {
   "display_name": "Python 3",
   "language": "python",
   "name": "python3"
  },
  "language_info": {
   "codemirror_mode": {
    "name": "ipython",
    "version": 3
   },
   "file_extension": ".py",
   "mimetype": "text/x-python",
   "name": "python",
   "nbconvert_exporter": "python",
   "pygments_lexer": "ipython3",
   "version": "3.6.4"
  }
 },
 "nbformat": 4,
 "nbformat_minor": 2
}
