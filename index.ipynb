{
 "cells": [
  {
   "cell_type": "markdown",
   "metadata": {},
   "source": [
    "# AWS Well Architected Reference Implementations\n",
    "\n",
    "\"The Well-Architected framework has been developed to help cloud architects build the most secure, high-performing, resilient, and efficient infrastructure possible for their applications. This framework provides a consistent approach for customers and partners to evaluate architectures, and provides guidance to help implement designs that will scale with your application needs over time.\" - https://aws.amazon.com/architecture/well-architected/\n",
    "\n",
    "The AWS Well Architected Framework evaluates application architectures by their non functional requirements, or  \"pillars\": Security, Reliability, Performance Efficiency, Cost Optimizaiton, and Operational Excellence. The framework is not meant to be exhaustive or guarantee of success, but provide the basic foundations that should be considered in cloud-native applications. However, the framework is not prescriptive: each software organization will build different implementations.\n",
    "\n",
    "This project picks up from there, offering reference implementations for each question as specifically as posible. Some will be more process oriented, but a lot of it comes down to code. And this is why they are presented as jupyter notebooks, providing the proper context and code for each reference.\n",
    "\n",
    "It is helpful to be familiar with the AWS Well Architected Framework before getting started, but that is not strictly required. You'll probably navigate from the implementations here to the requirements there as you build your own architecture and answers.\n"
   ]
  },
  {
   "cell_type": "markdown",
   "metadata": {},
   "source": [
    "## Security"
   ]
  },
  {
   "cell_type": "code",
   "execution_count": null,
   "metadata": {
    "collapsed": true
   },
   "outputs": [],
   "source": []
  },
  {
   "cell_type": "markdown",
   "metadata": {},
   "source": [
    "## Reliability\n",
    "\n",
    "### Foundations\n",
    "\n",
    "REL 1: How are you managing AWS service limits for your accounts?\n",
    "\n",
    "REL 2: How are you planning your network topology on AWS? \n",
    "\n",
    "### Change Management\n",
    "\n",
    "REL 3: How does your system adapt to changes in demand?\n",
    "\n",
    "REL 4: How are you monitoring AWS resources? \n",
    "\n",
    "REL 5: How are you executing change?\n",
    "\n",
    "### Failure Manaagement\n",
    "\n",
    "REL 6: How are you backing up your data?\n",
    "\n",
    "REL 7: How does your system withstand component failures?\n",
    "\n",
    "REL 8: How are you testing your resiliency?\n",
    "\n",
    "REL 9: How are you planning for disaster recovery?\n",
    "\n",
    "\n"
   ]
  },
  {
   "cell_type": "code",
   "execution_count": null,
   "metadata": {
    "collapsed": true
   },
   "outputs": [],
   "source": []
  },
  {
   "cell_type": "code",
   "execution_count": null,
   "metadata": {
    "collapsed": true
   },
   "outputs": [],
   "source": []
  },
  {
   "cell_type": "markdown",
   "metadata": {},
   "source": [
    "## Performance Efficiency"
   ]
  },
  {
   "cell_type": "markdown",
   "metadata": {},
   "source": [
    "## Cost Optimization"
   ]
  },
  {
   "cell_type": "markdown",
   "metadata": {},
   "source": [
    "## Operational Excellence"
   ]
  },
  {
   "cell_type": "code",
   "execution_count": null,
   "metadata": {
    "collapsed": true
   },
   "outputs": [],
   "source": []
  }
 ],
 "metadata": {
  "kernelspec": {
   "display_name": "Python 3",
   "language": "python",
   "name": "python3"
  },
  "language_info": {
   "codemirror_mode": {
    "name": "ipython",
    "version": 3
   },
   "file_extension": ".py",
   "mimetype": "text/x-python",
   "name": "python",
   "nbconvert_exporter": "python",
   "pygments_lexer": "ipython3",
   "version": "3.6.1"
  }
 },
 "nbformat": 4,
 "nbformat_minor": 2
}
